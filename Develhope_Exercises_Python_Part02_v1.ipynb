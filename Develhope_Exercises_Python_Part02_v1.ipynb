{
 "cells": [
  {
   "cell_type": "markdown",
   "id": "e085bd5e",
   "metadata": {},
   "source": [
    "## Develhope Python Part 02 Exercises"
   ]
  },
  {
   "cell_type": "code",
   "execution_count": 14,
   "id": "1bc3bbdf",
   "metadata": {},
   "outputs": [
    {
     "name": "stdout",
     "output_type": "stream",
     "text": [
      "*\n",
      "**\n",
      "***\n",
      "****\n",
      "*****\n"
     ]
    }
   ],
   "source": [
    "#1\n",
    "i = 1 \n",
    "while i < 6:\n",
    "    print(\"*\"*i)\n",
    "    i = i + 1"
   ]
  },
  {
   "cell_type": "code",
   "execution_count": 15,
   "id": "3392a6d2",
   "metadata": {},
   "outputs": [
    {
     "name": "stdout",
     "output_type": "stream",
     "text": [
      "*\n",
      "***\n",
      "*****\n"
     ]
    }
   ],
   "source": [
    "#2\n",
    "i = 1 \n",
    "while i < 6:\n",
    "    if i == 2 or i == 4:\n",
    "        i = i + 1\n",
    "        pass\n",
    "    print(\"*\"*i)\n",
    "    i = i + 1"
   ]
  },
  {
   "cell_type": "code",
   "execution_count": 16,
   "id": "0c6a1591",
   "metadata": {},
   "outputs": [
    {
     "name": "stdout",
     "output_type": "stream",
     "text": [
      "coffee break\n"
     ]
    }
   ],
   "source": [
    "#3\n",
    "#Check if it is time for coffee break if it is just break\n",
    "todo = [\"exercise1\", \"exercise2\", \"exercise3\",\"coffee break\" ,\"exercise4\",\"exercise5\",\"exercise6\"]\n",
    "for x in todo:\n",
    "    if x.upper() == \"COFFEE BREAK\":\n",
    "        print(x)\n",
    "        break"
   ]
  },
  {
   "cell_type": "code",
   "execution_count": 17,
   "id": "a6bed437",
   "metadata": {},
   "outputs": [],
   "source": [
    "#4\n",
    "list1 = [\"lion\", \"monkey\", \"dog\",\"fish\"]\n",
    "tuple1 = (\"lion\", \"monkey\", \"dog\",\"fish\")\n",
    "set1 = {\"lion\", \"monkey\", \"dog\",\"fish\"}\n",
    "dict1 = {\"lion\":\"land\", \"monkey\":\"land\", \"dog\":\"land\",\"fish\":\"water\"}"
   ]
  },
  {
   "cell_type": "code",
   "execution_count": 18,
   "id": "188316ba",
   "metadata": {},
   "outputs": [
    {
     "name": "stdout",
     "output_type": "stream",
     "text": [
      "lion\n",
      "monkey\n",
      "dog\n",
      "fish\n"
     ]
    }
   ],
   "source": [
    "#Iterating each elements of list1\n",
    "for i in list1:\n",
    "    print(i)"
   ]
  },
  {
   "cell_type": "code",
   "execution_count": 19,
   "id": "6a00bbeb",
   "metadata": {},
   "outputs": [
    {
     "name": "stdout",
     "output_type": "stream",
     "text": [
      "lion\n",
      "monkey\n",
      "dog\n",
      "fish\n"
     ]
    }
   ],
   "source": [
    "#Iterating each elements of tuple1\n",
    "for i in tuple1:\n",
    "    print(i)"
   ]
  },
  {
   "cell_type": "code",
   "execution_count": 20,
   "id": "a88288dd",
   "metadata": {},
   "outputs": [
    {
     "name": "stdout",
     "output_type": "stream",
     "text": [
      "monkey\n",
      "dog\n",
      "fish\n",
      "lion\n"
     ]
    }
   ],
   "source": [
    "#Iterating each elements of set1\n",
    "for i in set1:\n",
    "    print(i)"
   ]
  },
  {
   "cell_type": "code",
   "execution_count": 21,
   "id": "9996108d",
   "metadata": {},
   "outputs": [
    {
     "name": "stdout",
     "output_type": "stream",
     "text": [
      "lion lives in land\n",
      "monkey lives in land\n",
      "dog lives in land\n"
     ]
    }
   ],
   "source": [
    "#Iterating all elements but print the ones who are living on land\n",
    "key = 'land'\n",
    "for i in dict1:\n",
    "    if dict1[i] == key:\n",
    "        print(f\"{i} lives in {key}\")\n",
    "    else: \n",
    "        continue"
   ]
  },
  {
   "cell_type": "code",
   "execution_count": 28,
   "id": "62dd7730",
   "metadata": {},
   "outputs": [
    {
     "name": "stdout",
     "output_type": "stream",
     "text": [
      "Length of list1:  4\n",
      "Length of tuple1:  4\n",
      "Length of set1:  4\n",
      "Length of dict1:  4\n",
      "First element of list1: lion / First element of tuple1: lion\n",
      "The key of index lion:  4\n"
     ]
    }
   ],
   "source": [
    "#5\n",
    "list1 = [\"lion\", \"monkey\", \"dog\",\"fish\"]\n",
    "tuple1 = (\"lion\", \"monkey\", \"dog\",\"fish\")\n",
    "set1 = {\"lion\", \"monkey\", \"dog\",\"fish\"}\n",
    "dict1 = {\"lion\":4, \"monkey\":2, \"dog\":4,\"fish\":2}\n",
    "\n",
    "#->1\n",
    "print(\"Length of list1: \",len(list1)),\n",
    "print(\"Length of tuple1: \",len(tuple1)),\n",
    "print(\"Length of set1: \",len(set1)),\n",
    "print(\"Length of dict1: \",len(dict1))\n",
    "#->2\n",
    "print(\"First element of list1:\",list1[0],\"/\",\"First element of tuple1:\",tuple1[0])\n",
    "#->3\n",
    "print(\"The key of index lion: \",dict1['lion'])\n",
    "#->4\n",
    "list1[1] = 'rabbit'\n",
    "#->5\n",
    "#tuple1[1] = 'rabbit' -> Since sets are immutable \"rabbit\" can not be assigned\n",
    "#->6\n",
    "list1.append(\"monkey\")\n",
    "#->7\n",
    "list1.remove(\"rabbit\")\n",
    "#->8\n",
    "dict1[\"fish\"] = 0\n"
   ]
  },
  {
   "cell_type": "code",
   "execution_count": 31,
   "id": "39e6e6ca",
   "metadata": {},
   "outputs": [],
   "source": [
    "#6\n",
    "def goodbye():\n",
    "    print(\"Goodbye!\")"
   ]
  },
  {
   "cell_type": "code",
   "execution_count": 32,
   "id": "a83a08a0",
   "metadata": {},
   "outputs": [
    {
     "name": "stdout",
     "output_type": "stream",
     "text": [
      "Goodbye Adam!\n"
     ]
    }
   ],
   "source": [
    "#7\n",
    "def goodbye(name):\n",
    "    print(f\"Goodbye {name}!\")\n",
    "goodbye(\"Adam\")    "
   ]
  },
  {
   "cell_type": "code",
   "execution_count": 33,
   "id": "1af320cb",
   "metadata": {},
   "outputs": [
    {
     "name": "stdout",
     "output_type": "stream",
     "text": [
      "KORKMAZ\n"
     ]
    }
   ],
   "source": [
    "#8\n",
    "import os \n",
    "user = os.getlogin()\n",
    "print(user)"
   ]
  },
  {
   "cell_type": "code",
   "execution_count": 36,
   "id": "341e4ffa",
   "metadata": {},
   "outputs": [
    {
     "name": "stdout",
     "output_type": "stream",
     "text": [
      "To add new value provide 1         To abort the operation provide -11\n",
      "Please give a name: Tristram\n",
      "Please give a surname:Mcbride\n",
      "To add new value provide 1         To abort the operation provide -11\n",
      "Please give a name: Baldwin\n",
      "Please give a surname:Preston\n",
      "To add new value provide 1         To abort the operation provide -11\n",
      "Please give a name: Wally\n",
      "Please give a surname:Collins\n",
      "To add new value provide 1         To abort the operation provide -1-1\n",
      "Hello  John Doe !\n",
      "Hello  Tristram Mcbride !\n",
      "Hello  Baldwin Preston !\n",
      "Hello  Wally Collins !\n"
     ]
    }
   ],
   "source": [
    "#9\n",
    "def greetings(name = \"John\",surname = \"Doe\"):\n",
    "    L = []\n",
    "    i = 0\n",
    "    L.append(name + \" \" + surname)\n",
    "    while True:\n",
    "        process = input(\"To add new value provide 1 \\\n",
    "        To abort the operation provide -1\")\n",
    "        if process == \"1\":\n",
    "            name = input(\"Please give a name: \")\n",
    "            surname = input(\"Please give a surname:\")\n",
    "            L.append(name + \" \" + surname)\n",
    "            i = i+1\n",
    "        else:\n",
    "            break\n",
    "    for k in range(len(L)):\n",
    "        print(f\"Hello \", L[k] ,\"!\")\n",
    "greetings()        "
   ]
  },
  {
   "cell_type": "code",
   "execution_count": 40,
   "id": "a0c487d2",
   "metadata": {},
   "outputs": [
    {
     "name": "stdout",
     "output_type": "stream",
     "text": [
      "Randomly generaed list: [57, 24, 86, 56, -76, 42, 62, -19, 26, 28, 65, 5, -40, -17, 35]\n",
      "Sum of the numbers in the list:  334\n"
     ]
    }
   ],
   "source": [
    "#10\n",
    "import random as rd\n",
    "def random_list_summer(n = 15):\n",
    "    L = []\n",
    "    s = 0\n",
    "    for i in range(n):\n",
    "        L.append(rd.randint(-100,100))\n",
    "    for k in range(len(L)):\n",
    "        s = s + L[k]\n",
    "    print(\"Randomly generaed list:\",L)\n",
    "    print(\"Sum of the numbers in the list: \", s)\n",
    "    \n",
    "random_list_summer()    "
   ]
  },
  {
   "cell_type": "code",
   "execution_count": 41,
   "id": "08df1568",
   "metadata": {},
   "outputs": [
    {
     "name": "stdout",
     "output_type": "stream",
     "text": [
      "1.value  1\n",
      "2.value  1\n",
      "3.value  2\n",
      "4.value  3\n",
      "5.value  5\n"
     ]
    }
   ],
   "source": [
    "#11\n",
    "#Recursive fibonacci function\n",
    "n = 5\n",
    "def fibonacci(number):\n",
    "    if number <= 1:\n",
    "        return number\n",
    "    else:\n",
    "        return (fibonacci(number-1) + fibonacci(number-2))\n",
    "\n",
    "for i in range(1,n+1):\n",
    "    print(f\"{i}.value \" ,fibonacci(i))    \n",
    "    "
   ]
  },
  {
   "cell_type": "code",
   "execution_count": 56,
   "id": "619ce69a",
   "metadata": {},
   "outputs": [
    {
     "name": "stdout",
     "output_type": "stream",
     "text": [
      "[4, 16, 36, 64, 100]\n"
     ]
    }
   ],
   "source": [
    "#12\n",
    "list_1 = [1,2,3,4,5,6,7,8,9,10]\n",
    "f = lambda x : [i*i for i in x if (i%2 == 0)]\n",
    "print(f(list_1))"
   ]
  }
 ],
 "metadata": {
  "kernelspec": {
   "display_name": "Python 3 (ipykernel)",
   "language": "python",
   "name": "python3"
  },
  "language_info": {
   "codemirror_mode": {
    "name": "ipython",
    "version": 3
   },
   "file_extension": ".py",
   "mimetype": "text/x-python",
   "name": "python",
   "nbconvert_exporter": "python",
   "pygments_lexer": "ipython3",
   "version": "3.9.13"
  }
 },
 "nbformat": 4,
 "nbformat_minor": 5
}
