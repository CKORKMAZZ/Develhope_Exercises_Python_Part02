{
 "cells": [
  {
   "cell_type": "code",
   "execution_count": 17,
   "id": "1eb2bd48",
   "metadata": {},
   "outputs": [],
   "source": [
    "#13,14\n",
    "class Animal:\n",
    "    def __init__(self,number_of_legs,runs):\n",
    "        print(\"Animal Object was created\")\n",
    "        self.number_of_legs = number_of_legs\n",
    "        self.runs = runs\n",
    "    def get_runs(self):\n",
    "        print(\"Running Started\")\n",
    "    def count_legs(self):\n",
    "        print(self.number_of_legs)\n",
    "    def return_legs(self):\n",
    "        return self.number_of_legs"
   ]
  },
  {
   "cell_type": "code",
   "execution_count": 18,
   "id": "357db0a5",
   "metadata": {},
   "outputs": [
    {
     "name": "stdout",
     "output_type": "stream",
     "text": [
      "Animal Object was created\n"
     ]
    }
   ],
   "source": [
    "Scottish_Fold = Animal(4,True)"
   ]
  },
  {
   "cell_type": "code",
   "execution_count": 19,
   "id": "6aecc11b",
   "metadata": {},
   "outputs": [
    {
     "name": "stdout",
     "output_type": "stream",
     "text": [
      "Running Started\n"
     ]
    }
   ],
   "source": [
    "Scottish_Fold.get_runs()"
   ]
  },
  {
   "cell_type": "code",
   "execution_count": 20,
   "id": "ec37f916",
   "metadata": {},
   "outputs": [
    {
     "name": "stdout",
     "output_type": "stream",
     "text": [
      "4\n"
     ]
    }
   ],
   "source": [
    "Scottish_Fold.count_legs()"
   ]
  },
  {
   "cell_type": "code",
   "execution_count": 21,
   "id": "08b21267",
   "metadata": {},
   "outputs": [
    {
     "data": {
      "text/plain": [
       "4"
      ]
     },
     "execution_count": 21,
     "metadata": {},
     "output_type": "execute_result"
    }
   ],
   "source": [
    "Scottish_Fold.return_legs()"
   ]
  },
  {
   "cell_type": "code",
   "execution_count": 22,
   "id": "425be224",
   "metadata": {},
   "outputs": [
    {
     "data": {
      "text/plain": [
       "4"
      ]
     },
     "execution_count": 22,
     "metadata": {},
     "output_type": "execute_result"
    }
   ],
   "source": [
    "Scottish_Fold.number_of_legs"
   ]
  },
  {
   "cell_type": "code",
   "execution_count": 23,
   "id": "3e7beeba",
   "metadata": {},
   "outputs": [],
   "source": [
    "#15\n",
    "class Animal:\n",
    "    def __init__(self,number_of_legs,runs):\n",
    "        print(\"Animal Object was created\")\n",
    "        self._number_of_legs = number_of_legs\n",
    "        self.runs = runs\n",
    "    def get_runs(self):\n",
    "        print(\"Running Started\")\n",
    "    def count_legs(self):\n",
    "        print(self._number_of_legs)\n",
    "    def return_legs(self):\n",
    "        return self._number_of_legs"
   ]
  },
  {
   "cell_type": "code",
   "execution_count": 24,
   "id": "11f13d1f",
   "metadata": {},
   "outputs": [
    {
     "name": "stdout",
     "output_type": "stream",
     "text": [
      "Animal Object was created\n"
     ]
    }
   ],
   "source": [
    "Scottish_Fold = Animal(4,True)"
   ]
  },
  {
   "cell_type": "code",
   "execution_count": 25,
   "id": "5e2ad90b",
   "metadata": {},
   "outputs": [
    {
     "data": {
      "text/plain": [
       "4"
      ]
     },
     "execution_count": 25,
     "metadata": {},
     "output_type": "execute_result"
    }
   ],
   "source": [
    "Scottish_Fold._number_of_legs"
   ]
  },
  {
   "cell_type": "code",
   "execution_count": 26,
   "id": "488677f1",
   "metadata": {},
   "outputs": [
    {
     "name": "stdout",
     "output_type": "stream",
     "text": [
      "4\n"
     ]
    }
   ],
   "source": [
    "Scottish_Fold.count_legs()"
   ]
  },
  {
   "cell_type": "code",
   "execution_count": 29,
   "id": "e29ebce8",
   "metadata": {},
   "outputs": [],
   "source": [
    "#16\n",
    "class Dog(Animal):\n",
    "    def __init__(self,number_of_legs,runs ,name ):\n",
    "        Animal.__init__(self,number_of_legs,runs)\n",
    "        self.name = name\n",
    "    def get_name(self):\n",
    "        return self.name\n",
    "    def bark(self):\n",
    "        print(\"woof woof\")"
   ]
  },
  {
   "cell_type": "code",
   "execution_count": 30,
   "id": "e17afe4d",
   "metadata": {},
   "outputs": [
    {
     "name": "stdout",
     "output_type": "stream",
     "text": [
      "Animal Object was created\n"
     ]
    }
   ],
   "source": [
    "Golden = Dog(4,True,\"Brave\")"
   ]
  },
  {
   "cell_type": "code",
   "execution_count": 31,
   "id": "85cfb7be",
   "metadata": {},
   "outputs": [
    {
     "data": {
      "text/plain": [
       "'Brave'"
      ]
     },
     "execution_count": 31,
     "metadata": {},
     "output_type": "execute_result"
    }
   ],
   "source": [
    "Golden.get_name()"
   ]
  },
  {
   "cell_type": "code",
   "execution_count": 32,
   "id": "f198c82b",
   "metadata": {},
   "outputs": [
    {
     "name": "stdout",
     "output_type": "stream",
     "text": [
      "woof woof\n"
     ]
    }
   ],
   "source": [
    "Golden.bark()"
   ]
  },
  {
   "cell_type": "code",
   "execution_count": 33,
   "id": "468b1191",
   "metadata": {},
   "outputs": [
    {
     "name": "stdout",
     "output_type": "stream",
     "text": [
      "4\n"
     ]
    }
   ],
   "source": [
    "Golden.count_legs()"
   ]
  }
 ],
 "metadata": {
  "kernelspec": {
   "display_name": "Python 3 (ipykernel)",
   "language": "python",
   "name": "python3"
  },
  "language_info": {
   "codemirror_mode": {
    "name": "ipython",
    "version": 3
   },
   "file_extension": ".py",
   "mimetype": "text/x-python",
   "name": "python",
   "nbconvert_exporter": "python",
   "pygments_lexer": "ipython3",
   "version": "3.9.13"
  }
 },
 "nbformat": 4,
 "nbformat_minor": 5
}
